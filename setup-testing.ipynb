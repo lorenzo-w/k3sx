{
 "cells": [
  {
   "cell_type": "markdown",
   "metadata": {},
   "source": [
    "# k3sx\n",
    "\n",
    "Testing notebook"
   ]
  },
  {
   "cell_type": "code",
   "execution_count": 2,
   "metadata": {
    "vscode": {
     "languageId": "shellscript"
    }
   },
   "outputs": [
    {
     "name": "stdout",
     "output_type": "stream",
     "text": [
      "env: KUBECONFIG=./kubeconfig\n"
     ]
    }
   ],
   "source": [
    "%env KUBECONFIG=./kubeconfig"
   ]
  },
  {
   "cell_type": "code",
   "execution_count": 11,
   "metadata": {
    "vscode": {
     "languageId": "shellscript"
    }
   },
   "outputs": [
    {
     "name": "stdout",
     "output_type": "stream",
     "text": [
      "\"cilium\" already exists with the same configuration, skipping\n"
     ]
    }
   ],
   "source": [
    "%%bash\n",
    "helm repo add cilium https://helm.cilium.io/"
   ]
  },
  {
   "cell_type": "code",
   "execution_count": 13,
   "metadata": {
    "vscode": {
     "languageId": "shellscript"
    }
   },
   "outputs": [
    {
     "name": "stderr",
     "output_type": "stream",
     "text": [
      "W0515 22:07:36.162123   23111 warnings.go:70] spec.template.spec.affinity.nodeAffinity.requiredDuringSchedulingIgnoredDuringExecution.nodeSelectorTerms[1].matchExpressions[0].key: beta.kubernetes.io/os is deprecated since v1.14; use \"kubernetes.io/os\" instead\n",
      "W0515 22:07:36.162224   23111 warnings.go:70] spec.template.metadata.annotations[scheduler.alpha.kubernetes.io/critical-pod]: non-functional in v1.16+; use the \"priorityClassName\" field instead\n"
     ]
    },
    {
     "name": "stdout",
     "output_type": "stream",
     "text": [
      "NAME: cilium\n",
      "LAST DEPLOYED: Sun May 15 22:07:33 2022\n",
      "NAMESPACE: kube-system\n",
      "STATUS: deployed\n",
      "REVISION: 1\n",
      "TEST SUITE: None\n",
      "NOTES:\n",
      "You have successfully installed Cilium with Hubble.\n",
      "\n",
      "Your release version is 1.11.4.\n",
      "\n",
      "For any further help, visit https://docs.cilium.io/en/v1.11/gettinghelp\n"
     ]
    }
   ],
   "source": [
    "%%bash\n",
    "helm install cilium cilium/cilium --version 1.11.4 \\\n",
    "   --namespace kube-system"
   ]
  },
  {
   "cell_type": "markdown",
   "metadata": {},
   "source": [
    "### Install Cilium via Helm"
   ]
  },
  {
   "cell_type": "markdown",
   "metadata": {},
   "source": [
    "### Install charts one by one"
   ]
  },
  {
   "cell_type": "code",
   "execution_count": 4,
   "metadata": {
    "vscode": {
     "languageId": "shellscript"
    }
   },
   "outputs": [
    {
     "name": "stdout",
     "output_type": "stream",
     "text": [
      "gitrepository.source.toolkit.fluxcd.io/k3sx created\n",
      "helmrepository.source.toolkit.fluxcd.io/bitnami created\n",
      "helmrepository.source.toolkit.fluxcd.io/authentik created\n",
      "helmrepository.source.toolkit.fluxcd.io/cilium created\n",
      "helmrepository.source.toolkit.fluxcd.io/dex created\n",
      "helmrepository.source.toolkit.fluxcd.io/kubernetes-dashboard created\n",
      "helmrepository.source.toolkit.fluxcd.io/longhorn created\n",
      "helmrepository.source.toolkit.fluxcd.io/ingress-nginx created\n",
      "helmrepository.source.toolkit.fluxcd.io/oauth2-proxy created\n",
      "helmrepository.source.toolkit.fluxcd.io/weave-gitops created\n",
      "helmrepository.source.toolkit.fluxcd.io/jetstack created\n"
     ]
    }
   ],
   "source": [
    "%%bash\n",
    "kubectl apply -f ./rendered/k3sx/templates/repos.yaml"
   ]
  },
  {
   "cell_type": "code",
   "execution_count": 6,
   "metadata": {
    "vscode": {
     "languageId": "shellscript"
    }
   },
   "outputs": [
    {
     "name": "stderr",
     "output_type": "stream",
     "text": [
      "Warning: resource clusterrolebindings/cluster-admin is missing the kubectl.kubernetes.io/last-applied-configuration annotation which is required by kubectl apply. kubectl apply should only be used on resources created declaratively by either kubectl create --save-config or kubectl apply. The missing annotation will be patched automatically.\n"
     ]
    },
    {
     "name": "stdout",
     "output_type": "stream",
     "text": [
      "clusterrolebinding.rbac.authorization.k8s.io/cluster-admin configured\n"
     ]
    }
   ],
   "source": [
    "%%bash\n",
    "kubectl apply -f ./rendered/k3sx/templates/admin-rbac.yaml"
   ]
  },
  {
   "cell_type": "code",
   "execution_count": 7,
   "metadata": {
    "vscode": {
     "languageId": "shellscript"
    }
   },
   "outputs": [
    {
     "name": "stdout",
     "output_type": "stream",
     "text": [
      "helmrelease.helm.toolkit.fluxcd.io/cilium created\n"
     ]
    }
   ],
   "source": [
    "%%bash\n",
    "kubectl apply -f ./rendered/k3sx/templates/cilium.yaml"
   ]
  },
  {
   "cell_type": "code",
   "execution_count": null,
   "metadata": {
    "vscode": {
     "languageId": "shellscript"
    }
   },
   "outputs": [],
   "source": [
    "%%bash\n",
    "kubectl apply -f ./rendered/k3sx/templates/apps/nginx-ingress.yaml"
   ]
  },
  {
   "cell_type": "code",
   "execution_count": null,
   "metadata": {
    "vscode": {
     "languageId": "shellscript"
    }
   },
   "outputs": [],
   "source": [
    "%%bash\n",
    "kubectl apply -f ./rendered/k3sx/templates/apps/cert-manager.yaml"
   ]
  },
  {
   "cell_type": "code",
   "execution_count": null,
   "metadata": {
    "vscode": {
     "languageId": "shellscript"
    }
   },
   "outputs": [],
   "source": [
    "%%bash\n",
    "kubectl apply -f ./rendered/k3sx/templates/apps/external-dns.yaml"
   ]
  },
  {
   "cell_type": "code",
   "execution_count": null,
   "metadata": {
    "vscode": {
     "languageId": "shellscript"
    }
   },
   "outputs": [],
   "source": [
    "%%bash\n",
    "kubectl apply -f ./rendered/k3sx/templates/apps/sso.yaml"
   ]
  },
  {
   "cell_type": "code",
   "execution_count": null,
   "metadata": {
    "vscode": {
     "languageId": "shellscript"
    }
   },
   "outputs": [],
   "source": [
    "%%bash\n",
    "kubectl apply -f ./rendered/k3sx/templates/apps/longhorn.yaml"
   ]
  },
  {
   "cell_type": "code",
   "execution_count": null,
   "metadata": {
    "vscode": {
     "languageId": "shellscript"
    }
   },
   "outputs": [],
   "source": [
    "%%bash\n",
    "kubectl apply -f ./rendered/k3sx/templates/apps/k8s-dashboard.yaml"
   ]
  },
  {
   "cell_type": "code",
   "execution_count": null,
   "metadata": {
    "vscode": {
     "languageId": "shellscript"
    }
   },
   "outputs": [],
   "source": [
    "%%bash\n",
    "kubectl apply -f ./rendered/k3sx/templates/apps/weave-gitops.yaml"
   ]
  },
  {
   "cell_type": "code",
   "execution_count": 10,
   "metadata": {
    "vscode": {
     "languageId": "shellscript"
    }
   },
   "outputs": [
    {
     "name": "stdout",
     "output_type": "stream",
     "text": [
      "NAMESPACE  \tNAME  \tREVISION\tSUSPENDED\tREADY\tMESSAGE                  \n",
      "kube-system\tcilium\t        \tFalse    \tFalse\twaiting to be reconciled\t\n"
     ]
    }
   ],
   "source": [
    "%%bash\n",
    "flux get hr --all-namespaces"
   ]
  },
  {
   "cell_type": "markdown",
   "metadata": {},
   "source": [
    "### Setup kubelogin locally"
   ]
  },
  {
   "cell_type": "code",
   "execution_count": null,
   "metadata": {
    "vscode": {
     "languageId": "shellscript"
    }
   },
   "outputs": [],
   "source": [
    "%%bash\n",
    "kubectl config set-credentials oidc \\\n",
    "  --exec-api-version=client.authentication.k8s.io/v1beta1 \\\n",
    "  --exec-command=kubectl \\\n",
    "  --exec-arg=oidc-login \\\n",
    "  --exec-arg=get-token \\\n",
    "  --exec-arg=--oidc-issuer-url=https://oidc.test.cloudlane.one \\\n",
    "  --exec-arg=--oidc-client-id=k8s \\\n",
    "  --exec-arg=--oidc-client-secret=cVZFcnBvQHpSRzhrVGVzZGg5NSw= \\\n",
    "  --exec-arg=--oidc-extra-scope=\"'email groups profile openid'\""
   ]
  }
 ],
 "metadata": {
  "interpreter": {
   "hash": "e8b751ba7d7a1725f0f24959c31b4469b6e5fdf462ca84a69194d1bdf657fbe1"
  },
  "kernelspec": {
   "display_name": "Python 3.10.2 ('.venv': poetry)",
   "language": "python",
   "name": "python3"
  },
  "language_info": {
   "codemirror_mode": {
    "name": "ipython",
    "version": 3
   },
   "file_extension": ".py",
   "mimetype": "text/x-python",
   "name": "python",
   "nbconvert_exporter": "python",
   "pygments_lexer": "ipython3",
   "version": "3.10.2"
  },
  "orig_nbformat": 4
 },
 "nbformat": 4,
 "nbformat_minor": 2
}
