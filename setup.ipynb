{
 "cells": [
  {
   "cell_type": "markdown",
   "metadata": {},
   "source": [
    "# k3sx\n",
    "\n",
    "Install k3s on given ssh remotes via k3sup and setup additional components for a proper production cluster."
   ]
  },
  {
   "cell_type": "markdown",
   "metadata": {},
   "source": [
    "## Prerequesites\n",
    "\n",
    "To proceed, you need one or more exposed remote Linux hosts, which you can access via public IPv4 and can login to as a privileged user via a private key."
   ]
  },
  {
   "cell_type": "markdown",
   "metadata": {},
   "source": [
    "## Setup"
   ]
  },
  {
   "cell_type": "markdown",
   "metadata": {},
   "source": [
    "### 1. Supply all inputs\n",
    "\n",
    "#### Set environment variables for SSH"
   ]
  },
  {
   "cell_type": "code",
   "execution_count": null,
   "metadata": {
    "vscode": {
     "languageId": "shellscript"
    }
   },
   "outputs": [],
   "source": [
    "# user name and ssh key for login on your remotes\n",
    "%env SSH_USER=root\n",
    "%env SSH_KEY=~/.ssh/id_rsa"
   ]
  },
  {
   "cell_type": "markdown",
   "metadata": {},
   "source": [
    "#### Create txt files and fill them with the IPv4 addresses of your remotes\n",
    "\n",
    "One IP per line"
   ]
  },
  {
   "cell_type": "code",
   "execution_count": null,
   "metadata": {
    "vscode": {
     "languageId": "shellscript"
    }
   },
   "outputs": [],
   "source": [
    "%%bash\n",
    "\n",
    "touch ./server-ips.txt\n",
    "touch ./agent-ips.txt\n",
    "\n",
    "if command -v code &> /dev/null\n",
    "then \n",
    "    code ./server-ips.txt\n",
    "    code ./agent-ips.txt\n",
    "fi"
   ]
  },
  {
   "cell_type": "markdown",
   "metadata": {},
   "source": [
    "#### Copy values.yaml template to root and fill in all parameters"
   ]
  },
  {
   "cell_type": "code",
   "execution_count": null,
   "metadata": {
    "vscode": {
     "languageId": "shellscript"
    }
   },
   "outputs": [],
   "source": [
    "%%bash\n",
    "\n",
    "if [ ! -f ./values.yaml ]; \n",
    "then\n",
    "    cp ./chart/values.yaml ./values.yaml\n",
    "fi\n",
    "\n",
    "if command -v code &> /dev/null\n",
    "then\n",
    "    code ./values.yaml\n",
    "fi"
   ]
  },
  {
   "cell_type": "markdown",
   "metadata": {},
   "source": [
    "### 2. Install CLI tools\n",
    "\n",
    "#### Quick install via Homebrew\n",
    "\n",
    "Install [brew](https://brew.sh/) if you don't have it yet: \n",
    "\n",
    "```bash \n",
    "/bin/bash -c \"$(curl -fsSL https://raw.githubusercontent.com/Homebrew/install/HEAD/install.sh)\"\n",
    "echo 'export PATH=\"/home/linuxbrew/.linuxbrew/bin:/home/linuxbrew/.linuxbrew/sbin:$PATH\"' >> ~/.profile\n",
    "``` \n",
    "\n",
    "This requires sudo and must be done outside of this notebook."
   ]
  },
  {
   "cell_type": "code",
   "execution_count": null,
   "metadata": {
    "vscode": {
     "languageId": "shellscript"
    }
   },
   "outputs": [],
   "source": [
    "%%bash\n",
    "brew install kubernetes-cli int128/kubelogin/kubelogin helm k3sup fluxcd/tap/flux vcluster cilium-cli"
   ]
  },
  {
   "cell_type": "markdown",
   "metadata": {},
   "source": [
    "### 3. Setup k3s on all given ssh remotes"
   ]
  },
  {
   "cell_type": "code",
   "execution_count": null,
   "metadata": {
    "vscode": {
     "languageId": "shellscript"
    }
   },
   "outputs": [],
   "source": [
    "%%bash\n",
    "\n",
    "for SERVER in $(cat ./server-ips.txt)\n",
    "do\n",
    "    ssh-keygen -f \"$HOME/.ssh/known_hosts\" -R \"$SERVER\"\n",
    "    scp -o StrictHostKeyChecking=no -i $SSH_KEY ./config/k3s.yaml $SSH_USER@$SERVER:~/\n",
    "    k3sup install --ip $SERVER --user $SSH_USER --ssh-key $SSH_KEY --local-path ./kubeconfig \\\n",
    "        --k3s-extra-args '--config ~/k3s.yaml --node-taint node.cilium.io/agent-not-ready=true:NoExecute'\n",
    "    export JOIN_SERVER=$SERVER\n",
    "done"
   ]
  },
  {
   "cell_type": "code",
   "execution_count": null,
   "metadata": {
    "vscode": {
     "languageId": "shellscript"
    }
   },
   "outputs": [],
   "source": [
    "%%bash\n",
    "for AGENT in $(cat ./agent-ips.txt)\n",
    "do\n",
    "    ssh-keygen -f \"$HOME/.ssh/known_hosts\" -R $AGENT\n",
    "    k3sup join --ip $AGENT --server-ip 49.12.239.191 --user $SSH_USER --ssh-key $SSH_KEY \\\n",
    "        --k3s-extra-args '--node-taint node.cilium.io/agent-not-ready=true:NoExecute'\n",
    "done"
   ]
  },
  {
   "cell_type": "code",
   "execution_count": null,
   "metadata": {
    "vscode": {
     "languageId": "shellscript"
    }
   },
   "outputs": [],
   "source": [
    "%env KUBECONFIG=./kubeconfig"
   ]
  },
  {
   "cell_type": "markdown",
   "metadata": {},
   "source": [
    "### 4. Install necessary infrastructure to run pods\n",
    "\n",
    "Some components must be deployed even before FluxCD to be able to run pods (with storage). These manual deployments will be reconciled with a GitOps deployment later."
   ]
  },
  {
   "cell_type": "code",
   "execution_count": null,
   "metadata": {
    "vscode": {
     "languageId": "shellscript"
    }
   },
   "outputs": [],
   "source": [
    "%%bash\n",
    "\n",
    "helm dependency build charts/bootstrap/cilium\n",
    "helm install cilium charts/bootstrap/cilium --namespace kube-system\n",
    "\n",
    "helm dependency build charts/bootstrap/longhorn\n",
    "helm install longhorn charts/bootstrap/longhorn --namespace longhorn-system --create-namespace\n",
    "\n",
    "sleep 60 # wait for pods to be ready"
   ]
  },
  {
   "cell_type": "markdown",
   "metadata": {},
   "source": [
    "#### Confirm that all nodes have status *Ready*"
   ]
  },
  {
   "cell_type": "code",
   "execution_count": null,
   "metadata": {
    "vscode": {
     "languageId": "shellscript"
    }
   },
   "outputs": [],
   "source": [
    "%%bash\n",
    "kubectl get node -o wide"
   ]
  },
  {
   "cell_type": "markdown",
   "metadata": {},
   "source": [
    "#### Check Cilium networking status"
   ]
  },
  {
   "cell_type": "code",
   "execution_count": null,
   "metadata": {
    "vscode": {
     "languageId": "shellscript"
    }
   },
   "outputs": [],
   "source": [
    "%%bash\n",
    "cilium status"
   ]
  },
  {
   "cell_type": "markdown",
   "metadata": {},
   "source": [
    "### 5. [Bootstrap FluxCD](https://fluxcd.io/docs/installation/#bootstrap) "
   ]
  },
  {
   "cell_type": "code",
   "execution_count": null,
   "metadata": {
    "vscode": {
     "languageId": "shellscript"
    }
   },
   "outputs": [],
   "source": [
    "%%bash\n",
    "flux install"
   ]
  },
  {
   "cell_type": "markdown",
   "metadata": {},
   "source": [
    "#### Alternative\n",
    "\n",
    "If you wish to have the entire cluster be controlled my a single GitOps repo, instead do [`flux bootstrap github`](https://fluxcd.io/docs/installation/#github-and-github-enterprise) for automatically setting up a GitOps repo on GitHub or [`flux bootstrap git`](https://fluxcd.io/docs/installation/#generic-git-server) for using an existing GitOps repo with an arbitrary provider."
   ]
  },
  {
   "cell_type": "markdown",
   "metadata": {},
   "source": [
    "### 6. Install the main infrastructure chart\n",
    "\n",
    "**NOTE:** If you chose to setup a GitOps repo for the entire cluster in the previous step, create and commit respective YAML definitions of [GitRepository](https://fluxcd.io/docs/guides/helmreleases/#git-repository) and [HelmRelease](https://fluxcd.io/docs/guides/helmreleases/#define-a-helm-release) resources to your repo instead of using the CLI commands shown below.\n",
    "\n",
    "#### Create a GitRepository source from this repo"
   ]
  },
  {
   "cell_type": "code",
   "execution_count": null,
   "metadata": {
    "vscode": {
     "languageId": "shellscript"
    }
   },
   "outputs": [],
   "source": [
    "%%bash\n",
    "\n",
    "flux create source git k3sx-root \\\n",
    "  --url=https://github.com/lorenzo-w/k3sx \\\n",
    "  --branch=main"
   ]
  },
  {
   "cell_type": "markdown",
   "metadata": {},
   "source": [
    "#### Create a HelmRelease with values from ./values.yaml"
   ]
  },
  {
   "cell_type": "code",
   "execution_count": null,
   "metadata": {
    "vscode": {
     "languageId": "shellscript"
    }
   },
   "outputs": [],
   "source": [
    "%%bash\n",
    "\n",
    "flux create hr k3sx-main \\\n",
    "  --source=GitRepository/k3sx-root \\\n",
    "  --chart=./charts/main \\\n",
    "  --values=./values.yaml\n",
    "sleep 300 # wait for all sub-releases to be reconciled, yes this may take up to 5 min"
   ]
  },
  {
   "cell_type": "markdown",
   "metadata": {},
   "source": [
    "#### Confirm that all HelmRelease reconciliations are done and successful\n",
    "\n",
    "Otherwise wait a couple more seconds and refresh."
   ]
  },
  {
   "cell_type": "code",
   "execution_count": null,
   "metadata": {
    "vscode": {
     "languageId": "shellscript"
    }
   },
   "outputs": [],
   "source": [
    "%%bash\n",
    "flux get hr --all-namespaces"
   ]
  },
  {
   "cell_type": "markdown",
   "metadata": {},
   "source": [
    "And also confirm that no errors have occured"
   ]
  },
  {
   "cell_type": "code",
   "execution_count": null,
   "metadata": {
    "vscode": {
     "languageId": "shellscript"
    }
   },
   "outputs": [],
   "source": [
    "%%bash\n",
    "flux logs --level error -n flux-system"
   ]
  },
  {
   "cell_type": "markdown",
   "metadata": {},
   "source": [
    "### 7. Activate OIDC login for Kubernetes and set up kubelogin for kubectl"
   ]
  },
  {
   "cell_type": "code",
   "execution_count": null,
   "metadata": {
    "vscode": {
     "languageId": "shellscript"
    }
   },
   "outputs": [],
   "source": [
    "%%bash\n",
    "# Add OIDC to the kube api server\n",
    "\n",
    "ISSUER_URL=$(kubectl get secret sso-config -n sso-system --template={{.data.oidc_issuer_url}} | base64 --decode)\n",
    "CLIENT_ID=$(kubectl get secret sso-config -n sso-system --template={{.data.internal_oidc_client_id}} | base64 --decode)\n",
    "CLIENT_SECRET=$(kubectl get secret sso-config -n sso-system --template={{.data.internal_oidc_client_secret}} | base64 --decode)\n",
    "\n",
    "for SERVER in $(cat ./server-ips.txt)\n",
    "do\n",
    "    ssh -i $SSH_KEY $SSH_USER@$SERVER \"rm -f /var/lib/rancher/k3s/server/token\" # This file causes trouble if present on k3s restart\n",
    "    k3sup install --ip $SERVER --user $SSH_USER --ssh-key $SSH_KEY --local-path ./kubeconfig --k3s-extra-args \"--config ~/k3s.yaml --kube-apiserver-arg=oidc-issuer-url=$ISSUER_URL --kube-apiserver-arg=oidc-client-id=$CLIENT_ID --kube-apiserver-arg=oidc-groups-claim=groups\"\n",
    "done"
   ]
  },
  {
   "cell_type": "code",
   "execution_count": null,
   "metadata": {
    "vscode": {
     "languageId": "shellscript"
    }
   },
   "outputs": [],
   "source": [
    "%%bash\n",
    "# Add OIDC to local kubeconfig file\n",
    "\n",
    "ISSUER_URL=$(kubectl get secret sso-config -n sso-system --template={{.data.oidc_issuer_url}} | base64 --decode)\n",
    "CLIENT_ID=$(kubectl get secret sso-config -n sso-system --template={{.data.internal_oidc_client_id}} | base64 --decode)\n",
    "CLIENT_SECRET=$(kubectl get secret sso-config -n sso-system --template={{.data.internal_oidc_client_secret}} | base64 --decode)\n",
    "\n",
    "kubectl config set-credentials oidc \\\n",
    "  --exec-api-version=client.authentication.k8s.io/v1beta1 \\\n",
    "  --exec-command=kubectl \\\n",
    "  --exec-arg=oidc-login \\\n",
    "  --exec-arg=get-token \\\n",
    "  --exec-arg=--oidc-issuer-url=$ISSUER_URL \\\n",
    "  --exec-arg=--oidc-client-id=$CLIENT_ID \\\n",
    "  --exec-arg=--oidc-client-secret=$CLIENT_SECRET"
   ]
  }
 ],
 "metadata": {
  "interpreter": {
   "hash": "e8b751ba7d7a1725f0f24959c31b4469b6e5fdf462ca84a69194d1bdf657fbe1"
  },
  "kernelspec": {
   "display_name": "Python 3.10.2 ('.venv': poetry)",
   "language": "python",
   "name": "python3"
  },
  "language_info": {
   "codemirror_mode": {
    "name": "ipython",
    "version": 3
   },
   "file_extension": ".py",
   "mimetype": "text/x-python",
   "name": "python",
   "nbconvert_exporter": "python",
   "pygments_lexer": "ipython3",
   "version": "3.10.2"
  },
  "orig_nbformat": 4
 },
 "nbformat": 4,
 "nbformat_minor": 2
}
